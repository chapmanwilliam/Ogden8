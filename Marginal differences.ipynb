{
 "cells": [
  {
   "cell_type": "code",
   "execution_count": 291,
   "id": "lyric-catch",
   "metadata": {},
   "outputs": [],
   "source": [
    "import numpy as np\n",
    "from scipy.stats import norm\n",
    "\n",
    "from ipywidgets import FloatSlider, HBox, VBox, Label, Layout, Output\n",
    "import bqplot.pyplot as plt"
   ]
  },
  {
   "cell_type": "code",
   "execution_count": 292,
   "id": "resident-estate",
   "metadata": {},
   "outputs": [],
   "source": [
    "x = np.linspace(-10, 10, 200)\n",
    "y = norm.pdf(x)\n",
    "\n",
    "# plot the gaussian density\n",
    "title_tmpl = \"Gaussian Density (mean = {} - {} and std dev = {} - {})\"\n",
    "pdf_fig = plt.figure(title=title_tmpl.format(0, 1,1,1))\n",
    "labelA=Label(value=\"Population A:\",layout=Layout(width='200px'))\n",
    "labelB=Label(value=\"Population B:\",layout=Layout(width='200px'))\n",
    "labelC=Label(value=\"Extreme event:\",layout=Layout(width='200px'))\n",
    "labelD=Label(value=\"Ratio extreme events B/A:\",layout=Layout(width='200px'))\n",
    "labelE=Label(value=\"Prob extreme event A, %:\",layout=Layout(width='200px'))\n",
    "labelF=Label(value=\"Prob extreme event B, %:\",layout=Layout(width='200px'))\n",
    "\n",
    "\n",
    "pdf_lineA = plt.plot(x, y, 'b', stroke_width=2, labels=['Population A'],display_legend=True)\n",
    "pdf_lineB = plt.plot(x, y, 'r', stroke_width=2, labels=['Population B'], display_legend=True)\n",
    "pdf_extreme_event=plt.vline(5,colors=['red'], display_legend=False)\n",
    "\n"
   ]
  },
  {
   "cell_type": "code",
   "execution_count": 293,
   "id": "handy-lawrence",
   "metadata": {},
   "outputs": [],
   "source": [
    "# use two sliders to represent mu and sigma\n",
    "mu_sliderA = FloatSlider(description='mean', value=0, min=-5, max=5, step=.1)\n",
    "sigma_sliderA = FloatSlider(description='std dev', value=1, min=0.1, max=5, step=.1)\n",
    "mu_sliderB = FloatSlider(description='mean', value=1, min=-5, max=5, step=.1)\n",
    "sigma_sliderB = FloatSlider(description='std dev', value=1, min=0.1, max=5, step=.1)\n",
    "extreme_slider=FloatSlider(description='', value=5, min=0, max=10, step=.1)\n",
    "outA=Output()\n",
    "outB=Output()\n",
    "outC=Output()\n",
    "\n",
    "slider_layoutA = HBox([labelA, mu_sliderA, sigma_sliderA])\n",
    "slider_layoutB = HBox([labelB, mu_sliderB, sigma_sliderB])\n",
    "slider_layoutExtreme=HBox([labelC, extreme_slider])\n",
    "slider_probA=HBox([labelE,outA])\n",
    "slider_probB=HBox([labelF,outB])\n",
    "slider_ratio=HBox([labelD, outC])"
   ]
  },
  {
   "cell_type": "code",
   "execution_count": 294,
   "id": "practical-strip",
   "metadata": {},
   "outputs": [],
   "source": [
    "def update_density(change):\n",
    "    new_muA = mu_sliderA.value\n",
    "    new_sigmaA = sigma_sliderA.value\n",
    "    new_muB = mu_sliderB.value\n",
    "    new_sigmaB = sigma_sliderB.value\n",
    "\n",
    "    # update the y attribute of the plot with the new pdf\n",
    "    # computed using new mu and sigma values\n",
    "    pdf_lineA.y = norm.pdf(x, new_muA, new_sigmaA)\n",
    "\n",
    "    pdf_lineB.y = norm.pdf(x, new_muB, new_sigmaB)\n",
    "    \n",
    "    # also update the fig title\n",
    "    pdf_fig.title = title_tmpl.format(new_muA,new_muB, new_sigmaA, new_sigmaB)\n",
    "    \n",
    "    pdf_extreme_event.x=[extreme_slider.value, extreme_slider.value]\n",
    "    pdf_extreme_event.y=[0, 1]\n",
    "    \n",
    "    ProbAgreaterThanExtreme=1-norm(new_muA,new_sigmaA).cdf(extreme_slider.value)\n",
    "    ProbBgreaterThanExtreme=1-norm(new_muB,new_sigmaB).cdf(extreme_slider.value)\n",
    "\n",
    "    \n",
    "    \n",
    "    \n",
    "    if ProbAgreaterThanExtreme>0:\n",
    "        Ratio=ProbBgreaterThanExtreme/ProbAgreaterThanExtreme\n",
    "    else:\n",
    "        Ratio=0\n",
    "    \n",
    "    with outA:\n",
    "        print((ProbAgreaterThanExtreme*100))\n",
    "        outA.clear_output(wait=True) \n",
    "\n",
    "    with outB:\n",
    "        print((ProbBgreaterThanExtreme*100))\n",
    "        outB.clear_output(wait=True) \n",
    "        \n",
    "    with outC:\n",
    "        if Ratio>0:\n",
    "            print(round(Ratio,2))\n",
    "        else:\n",
    "            print('too extreme')\n",
    "        outC.clear_output(wait=True) \n",
    "\n",
    "\n",
    "            \n",
    "\n",
    "\n",
    "\n",
    "update_density(None)\n",
    "\n",
    "# register the above callback with the 'value' trait of the sliders\n",
    "mu_sliderA.observe(update_density, 'value')\n",
    "sigma_sliderA.observe(update_density, 'value')\n",
    "mu_sliderB.observe(update_density, 'value')\n",
    "sigma_sliderB.observe(update_density, 'value')\n",
    "extreme_slider.observe(update_density,'value')"
   ]
  },
  {
   "cell_type": "code",
   "execution_count": 295,
   "id": "metallic-extra",
   "metadata": {},
   "outputs": [
    {
     "data": {
      "application/vnd.jupyter.widget-view+json": {
       "model_id": "85a3ea405b4f44e19d9d9c0cf2592971",
       "version_major": 2,
       "version_minor": 0
      },
      "text/plain": [
       "VBox(children=(Figure(axes=[Axis(scale=LinearScale(), side='bottom'), Axis(orientation='vertical', scale=Linea…"
      ]
     },
     "metadata": {},
     "output_type": "display_data"
    }
   ],
   "source": [
    "# now put all the widgets together into a simple dashboard\n",
    "# the plot should update now when the slider values are updated!\n",
    "final_layout1 = VBox([pdf_fig, slider_layoutA, slider_layoutB])\n",
    "final_layout2=VBox([slider_layoutExtreme, slider_probA, slider_probB, slider_ratio])\n",
    "final_layout1\n"
   ]
  },
  {
   "cell_type": "code",
   "execution_count": 296,
   "id": "democratic-rally",
   "metadata": {},
   "outputs": [
    {
     "data": {
      "application/vnd.jupyter.widget-view+json": {
       "model_id": "78a516da32884aaf8474070d801cf4d7",
       "version_major": 2,
       "version_minor": 0
      },
      "text/plain": [
       "VBox(children=(HBox(children=(Label(value='Extreme event:', layout=Layout(width='200px')), FloatSlider(value=5…"
      ]
     },
     "metadata": {},
     "output_type": "display_data"
    }
   ],
   "source": [
    "final_layout2"
   ]
  },
  {
   "cell_type": "code",
   "execution_count": null,
   "id": "bound-temple",
   "metadata": {},
   "outputs": [],
   "source": []
  },
  {
   "cell_type": "code",
   "execution_count": null,
   "id": "minimal-missouri",
   "metadata": {},
   "outputs": [],
   "source": []
  },
  {
   "cell_type": "code",
   "execution_count": null,
   "id": "congressional-bronze",
   "metadata": {},
   "outputs": [],
   "source": []
  }
 ],
 "metadata": {
  "kernelspec": {
   "display_name": "Python 3",
   "language": "python",
   "name": "python3"
  },
  "language_info": {
   "codemirror_mode": {
    "name": "ipython",
    "version": 3
   },
   "file_extension": ".py",
   "mimetype": "text/x-python",
   "name": "python",
   "nbconvert_exporter": "python",
   "pygments_lexer": "ipython3",
   "version": "3.9.1"
  }
 },
 "nbformat": 4,
 "nbformat_minor": 5
}
