{
 "cells": [
  {
   "cell_type": "code",
   "execution_count": 1,
   "id": "novel-basement",
   "metadata": {},
   "outputs": [],
   "source": [
    "import ipywidgets as widgets\n",
    "import ipympl\n",
    "from IPython.display import display\n",
    "from localpackage.game import game\n",
    "from localpackage.utils import returnFreq\n",
    "\n",
    "from bqplot import *\n",
    "import bqplot.pyplot as plt\n",
    "\n",
    "import numpy as np\n",
    "import math\n",
    "regions=['UK','EW','EN','SC','WA','NI','GB']\n",
    "lbeq=widgets.Label(value='=',layout=widgets.Layout(display=\"flex\", justify_content=\"flex-start\", width=\"10px\"))\n",
    "ClaimantOut = widgets.Output(layout=widgets.Layout(display=\"flex\", justify_content=\"flex-start\", width=\"420px\", border='solid'))\n",
    "DependentOut= widgets.Output(layout=widgets.Layout(display=\"flex\", justify_content=\"flex-start\", width=\"420px\", border='solid')) "
   ]
  },
  {
   "cell_type": "code",
   "execution_count": 2,
   "id": "demanding-karma",
   "metadata": {},
   "outputs": [
    {
     "data": {
      "application/vnd.jupyter.widget-view+json": {
       "model_id": "d74aa03adbf64d27b3aa4af27d953a4b",
       "version_major": 2,
       "version_minor": 0
      },
      "text/plain": [
       "HBox(children=(FloatSlider(value=-0.5, description='Disc. Rate:', max=3.0, min=-3.0), DatePicker(value=None, d…"
      ]
     },
     "metadata": {},
     "output_type": "display_data"
    }
   ],
   "source": [
    "#Game\n",
    "dr=widgets.FloatSlider(value=-0.5,min=-3, max=3, description='Disc. Rate:')\n",
    "td=widgets.DatePicker(description='Trial Date:',disabled=False, visible=False)\n",
    "og=widgets.Dropdown(\n",
    "    options=['Ogden 7', 'Ogden 8'],\n",
    "    value='Ogden 8',\n",
    "    description='Ogden:',\n",
    "    disabled=False,\n",
    ")\n",
    "fatal=widgets.Checkbox(value=False,description='Fatal',disabled=False,indent=False,layout=widgets.Layout(width='100px'))\n",
    "yrattained=widgets.Checkbox(value=False,description='Auto Year Attained',disabled=False,indent=False,layout=widgets.Layout(width='200px'))\n",
    "i1=[dr,td,og,fatal,yrattained]\n",
    "h1=widgets.HBox(i1)\n",
    "display(h1)\n",
    "g={'discountRate':dr.value,'Ogden':7}"
   ]
  },
  {
   "cell_type": "code",
   "execution_count": 3,
   "id": "olive-spank",
   "metadata": {},
   "outputs": [],
   "source": [
    "def on_value_change(change):\n",
    "    fillResults()"
   ]
  },
  {
   "cell_type": "code",
   "execution_count": 4,
   "id": "adverse-nursery",
   "metadata": {},
   "outputs": [],
   "source": [
    "#Person\n",
    "def persondetails(person):\n",
    "    label=widgets.Label(value=person.capitalize()+\":\",layout=widgets.Layout(width='100px'))\n",
    "    age=widgets.FloatSlider(value=30,min=0,max=125, step=1,description='Age at trial:', layout=widgets.Layout(width='400px'))\n",
    "    sex=widgets.Dropdown(\n",
    "        options=['Male', 'Female'],\n",
    "        value='Male',\n",
    "        description='Sex:',\n",
    "        disabled=False,\n",
    "        layout=widgets.Layout(width='175px')\n",
    "    )\n",
    "    rg=widgets.Dropdown(\n",
    "        options=regions,\n",
    "        value='UK',\n",
    "        description='Region:',\n",
    "        disabled=False,\n",
    "        layout=widgets.Layout(width='175px'),\n",
    "    )\n",
    "    deltale=widgets.FloatText(value=0.0, description='deltaLE:', disabled=False, layout=widgets.Layout(width='150px'))\n",
    "    ageatdeath=widgets.FloatSlider(value=age.value-5,min=0,max=age.value, step=1,description='Age at death:', layout=widgets.Layout(width='400px'))\n",
    "\n",
    "    i2=[label,age,sex,rg,deltale,ageatdeath]\n",
    "    h2=widgets.HBox(i2)\n",
    "    display(h2)\n",
    "    return age, sex, rg, deltale, ageatdeath, label, h2\n",
    "\n",
    "def getvaluesPerson(person):\n",
    "    person=persons[person]\n",
    "    return person[0].value, person[1].value, person[2].value, person[3].value, person[4].value, person[5].value"
   ]
  },
  {
   "cell_type": "code",
   "execution_count": 5,
   "id": "apparent-lightning",
   "metadata": {},
   "outputs": [
    {
     "data": {
      "application/vnd.jupyter.widget-view+json": {
       "model_id": "a7a3e32c2ae8431a90f32aa16f23aa52",
       "version_major": 2,
       "version_minor": 0
      },
      "text/plain": [
       "HBox(children=(Label(value='CLAIMANT', layout=Layout(width='100px')), FloatSlider(value=30.0, description='Age…"
      ]
     },
     "metadata": {},
     "output_type": "display_data"
    },
    {
     "data": {
      "application/vnd.jupyter.widget-view+json": {
       "model_id": "fedbce0fd66f483e82a4da4fc1eaf74a",
       "version_major": 2,
       "version_minor": 0
      },
      "text/plain": [
       "HBox(children=(Label(value='DEPENDENT', layout=Layout(width='100px')), FloatSlider(value=30.0, description='Ag…"
      ]
     },
     "metadata": {},
     "output_type": "display_data"
    }
   ],
   "source": [
    "#Create persons\n",
    "persons={}\n",
    "persons['CLAIMANT']=persondetails('CLAIMANT')\n",
    "persons['DEPENDENT']=persondetails('DEPENDENT')"
   ]
  },
  {
   "cell_type": "code",
   "execution_count": 6,
   "id": "united-newton",
   "metadata": {},
   "outputs": [],
   "source": [
    "#Row person\n",
    "def rowPerson(person):\n",
    "    age, sex, region, deltale, ageatdeath, label=getvaluesPerson(person)\n",
    "    label=widgets.Label(value=person.capitalize()+\":\",layout=widgets.Layout(width='100px'))\n",
    "    r=widgets.FloatRangeSlider(\n",
    "        value=[age, 125],\n",
    "        min=0,\n",
    "        max=125,\n",
    "        step=1,\n",
    "        description='Age Range:',\n",
    "        disabled=False,\n",
    "        continuous_update=True,\n",
    "        orientation='horizontal',\n",
    "        readout=True,\n",
    "        readout_format='.1f',\n",
    "        layout=widgets.Layout(width='400px')\n",
    "    )\n",
    "    fr=widgets.Text(value='Y', description='Freq:',layout=widgets.Layout(width='175px'))\n",
    "    op=widgets.Text(value='AMI', description='Options:',layout=widgets.Layout(width='150px'))\n",
    "    i4=[label,r,fr,op,lbeq,ClaimantOut]\n",
    "    h4=widgets.HBox(i4)\n",
    "    display(h4)\n",
    "    return r, fr, op, label, h4\n",
    "\n",
    "def getvaluesRow(person):\n",
    "    row=rows[person]\n",
    "    return row[0].value[0],row[0].value[1],row[1].value,row[2].value, row[3].value\n",
    "    "
   ]
  },
  {
   "cell_type": "code",
   "execution_count": 7,
   "id": "incorporate-operations",
   "metadata": {},
   "outputs": [
    {
     "data": {
      "application/vnd.jupyter.widget-view+json": {
       "model_id": "3e7ac244447848e6a5bfa4a3e507b1f4",
       "version_major": 2,
       "version_minor": 0
      },
      "text/plain": [
       "HBox(children=(Label(value='CLAIMANT', layout=Layout(width='100px')), FloatRangeSlider(value=(30.0, 125.0), de…"
      ]
     },
     "metadata": {},
     "output_type": "display_data"
    },
    {
     "data": {
      "application/vnd.jupyter.widget-view+json": {
       "model_id": "3125b6ec0e9940438ccc02b506480f6e",
       "version_major": 2,
       "version_minor": 0
      },
      "text/plain": [
       "HBox(children=(Label(value='DEPENDENT', layout=Layout(width='100px')), FloatRangeSlider(value=(30.0, 125.0), d…"
      ]
     },
     "metadata": {},
     "output_type": "display_data"
    }
   ],
   "source": [
    "#Create rows for dependent\n",
    "rows={}\n",
    "rows['CLAIMANT']=rowPerson('CLAIMANT')\n",
    "rows['DEPENDENT']=rowPerson('DEPENDENT')\n",
    "rows['DEPENDENT'][2].value='AMID'"
   ]
  },
  {
   "cell_type": "code",
   "execution_count": 13,
   "id": "inner-grace",
   "metadata": {},
   "outputs": [],
   "source": [
    "\n",
    "def getdataSet(og,region):\n",
    "    if og=='Ogden 7':\n",
    "        return {'year':2008,'region':region,'yrAttainedIn':2011}\n",
    "    elif og=='Ogden 8':\n",
    "        return {'year':2018,'region':region,'yrAttainedIn':2022}\n",
    "    else:\n",
    "        #error\n",
    "        print('Wrong Ogden')\n",
    "\n",
    "def getGame():\n",
    "    claimants=[]\n",
    "    age, sex, region, deltale, ageatdeath, label=getvaluesPerson('CLAIMANT')\n",
    "    if fatal.value:\n",
    "        claimant = {'name': 'CLAIMANT', 'age': age,'aad':ageatdeath, 'sex': sex, 'dataSet': getdataSet(og.value,region), 'deltaLE': deltale, 'cont':1}        \n",
    "    else:\n",
    "        claimant = {'name': 'CLAIMANT', 'age': age, 'sex': sex, 'dataSet': getdataSet(og.value,region), 'deltaLE': deltale, 'cont':1}\n",
    "\n",
    "    age, sex, region, deltale, ageatdeath,label=getvaluesPerson('DEPENDENT')\n",
    "    dependent= {'name': 'DEPENDENT', 'age': age, 'sex': sex, 'dependenton':'CLAIMANT', 'dataSet':getdataSet(og.value,region),'deltaLE': deltale, 'cont':1}\n",
    "    claimants.append(claimant)\n",
    "    claimants.append(dependent)\n",
    "    eg={'game':{'autoYrAttained':yrattained.value,'discountRate':dr.value/100, 'Ogden':7, 'claimants':claimants}}\n",
    "    return game(eg)\n",
    "\n",
    "def stringifyResult(result):\n",
    "    return \"Past (\"+result[0]+\") + Int(\"+result[1]+\") + Future(\"+result[2]+\") = \" + result[3]\n",
    "\n",
    "def getResult(person, thisGame):\n",
    "    fromAge,toAge, frequency, options, label=getvaluesRow(person)\n",
    "    if (fromAge==toAge):\n",
    "        result=thisGame.getClaimant(person).M(fromAge, freq=frequency, options=options)\n",
    "    else:\n",
    "        result=thisGame.getClaimant(person).M(fromAge, toAge, freq=frequency, options=options)\n",
    "    return result    \n",
    "\n",
    "def agegap():\n",
    "    ageC, sex, region, deltale, ageatdeath, label=getvaluesPerson('CLAIMANT')\n",
    "    ageD, sex, region, deltale, ageatdeath, label=getvaluesPerson('DEPENDENT')\n",
    "    return ageC-ageD\n",
    "\n",
    "def getLeftX(fat):\n",
    "    ageC, sex, region, deltale, ageatdeathC, label=getvaluesPerson('CLAIMANT')\n",
    "    ageD, sex, region, deltale, ageatdeathD, label=getvaluesPerson('DEPENDENT')\n",
    "    fromAgeC,toAge, frequency, options, label=getvaluesRow('CLAIMANT')\n",
    "    fromAgeD,toAge, frequency, options, label=getvaluesRow('DEPENDENT')\n",
    "    if fat: return min(ageC,fromAgeC,ageatdeathC)-1\n",
    "    return min(ageC,fromAgeC)-1\n",
    "\n",
    "def getageatDeath():\n",
    "    age, sex, region, deltale, ageatdeath, label=getvaluesPerson('CLAIMANT')\n",
    "    return ageatdeath\n",
    "\n",
    "    \n",
    "    \n",
    "\n",
    "def updateBQplot(person, thisGame,Res):\n",
    "    agap=0\n",
    "    if person=='DEPENDENT': agap=agegap()\n",
    "    \n",
    "    rows['CLAIMANT'][2].value=rows['CLAIMANT'][2].value.upper()\n",
    "    rows['DEPENDENT'][2].value=rows['DEPENDENT'][2].value.upper()\n",
    "\n",
    "    age, sex, region, deltale, ageatdeath, label=getvaluesPerson(person)\n",
    "    fromAge,toAge, frequency, options, label=getvaluesRow(person)\n",
    "    pdf_fig, pdf_line, pdf_age, pdf_aad, pdf_fill, pdf_start, pdf_end= pdf[person]\n",
    "    \n",
    "    \n",
    "    curve=thisGame.getClaimant(person).getCurve()\n",
    "    if not fromAge==toAge:\n",
    "        title=curve.getTitle(result=Res,fromAge=fromAge,toAge=toAge,freq=frequency,cont=1,options=options)        \n",
    "    else:\n",
    "        title=curve.getTitle(result=Res,fromAge=fromAge,freq=frequency,cont=1,options=options)\n",
    "\n",
    "        \n",
    "    #The plot\n",
    "    LxNoI,Lx,Rng=curve.getCurve(options=options,cont=1)\n",
    "    pdf_fig.title=title\n",
    "    #scale\n",
    "    leftX=getLeftX(fatal.value)-agap\n",
    "        \n",
    "    pdf_line.scales['x'].min=leftX\n",
    "    pdf_line.scales['x'].max=125-agap\n",
    "    pdf_line.scales['y'].min=0\n",
    "    pdf_line.scales['y'].max=2\n",
    "    pdf_line.x=Rng\n",
    "    pdf_line.y=Lx\n",
    "    #age at trial\n",
    "    pdf_age.x=[age, age]\n",
    "    pdf_age.y=[0, 1]\n",
    "    #Age at death\n",
    "    pdf_aad.x=[getageatDeath()-agap,getageatDeath()-agap]\n",
    "    pdf_aad.y=[0,1]\n",
    "\n",
    "    #Sort out fill range\n",
    "    mask=(Rng>=fromAge) & (Rng<=toAge)\n",
    "    R=Rng[mask]\n",
    "    L=Lx[mask]\n",
    "    #add interp points\n",
    "    Ll=np.interp(fromAge,Rng,Lx)\n",
    "    Ul=np.interp(toAge,Rng,Lx)\n",
    "    R=np.insert(R,0,fromAge)\n",
    "    L=np.insert(L,0,Ll)\n",
    "    R=np.append(R,toAge)\n",
    "    L=np.append(L,Ul)\n",
    "    \n",
    "    #single point\n",
    "    y1=np.interp(fromAge,Rng,Lx)\n",
    "    pdf_start.x=[fromAge,fromAge]\n",
    "    pdf_start.y=[0,y1]\n",
    "    y2=np.interp(toAge,Rng,Lx)\n",
    "    pdf_end.x=[toAge,toAge]\n",
    "    pdf_end.y=[0,y2]\n",
    "    #the fill\n",
    "    pdf_fill.x=R\n",
    "    pdf_fill.y=L\n",
    "    \n",
    "\n",
    "\n",
    "def fillResults():\n",
    "    thisGame=getGame()\n",
    "    with ClaimantOut:\n",
    "        cRes=getResult('CLAIMANT',thisGame)\n",
    "        cResStr=[\"{:2.2f}\".format(f) for f in cRes]\n",
    "        print(stringifyResult(cResStr))\n",
    "        ClaimantOut.clear_output(wait=True) \n",
    "            \n",
    "    with DependentOut:\n",
    "        dRes=getResult('DEPENDENT',thisGame)\n",
    "        dResStr=[\"{:2.2f}\".format(f) for f in dRes]\n",
    "        print (stringifyResult(dResStr))\n",
    "        DependentOut.clear_output(wait=True) \n",
    "    \n",
    "    updateBQplot('CLAIMANT',thisGame,cRes)\n",
    "    if fatal.value: updateBQplot('DEPENDENT',thisGame,dRes)\n",
    "\n",
    "\n",
    "def setFatal():\n",
    "\n",
    "\n",
    "\n",
    "\n",
    "    ageC, sexC, regionC, deltaleC, ageatdeathC, labelPC, hPC=persons['CLAIMANT']\n",
    "    ageD, sexD, regionD, deltaleD, ageatdeathD, labelPD, hPD=persons['DEPENDENT']\n",
    "    rC, frC, opC, labelRC, h4C=rows['CLAIMANT']\n",
    "    rD, frD, opD, labelRD, h4D=rows['DEPENDENT']\n",
    "\n",
    "    \n",
    "    pdf_figC, pdf_lineC, pdf_ageC, pdf_aadC, pdf_fillC, pdf_startC, pdf_endC= pdf['CLAIMANT']\n",
    "\n",
    "\n",
    "\n",
    "    if fatal.value:#it's a fatal game\n",
    "        pdf['DEPENDENT']=drawFigure('DEPENDENT')\n",
    "\n",
    "        pdf_figD, pdf_lineD, pdf_ageD, pdf_aadD, pdf_fillD, pdf_startD, pdf_endD=pdf['DEPENDENT']\n",
    "\n",
    "        labelPC.value='Deceased:'\n",
    "        labelRC.value='Deceased:'\n",
    "        hPD.layout.display=None\n",
    "        h4D.layout.display=None\n",
    "        ageatdeathD.layout.display='none' #hide slider for age at death of D\n",
    "        ageatdeathC.layout.display=None #show slider for age at death of C\n",
    "        pdf_aadC.display_legend=True\n",
    "        pdf_aadD.display_legend=True\n",
    "        pdf_aadC.visible=True\n",
    "        pdf_aadD.visible=True\n",
    "    else:\n",
    "        plt.figure('DEPENDENT')\n",
    "        plt.figure('DEPENDENT').title=''\n",
    "        plt.clear()\n",
    "\n",
    "        labelPC.value='Claimant:'\n",
    "        labelRC.value='Claimant:'\n",
    "        ageatdeathC.layout.display='none' #hide slider for age at death of C\n",
    "        pdf_aadC.display_legend=False\n",
    "        pdf_aadC.visible=False\n",
    "        hPD.layout.display='none'\n",
    "        h4D.layout.display='none'\n",
    "        \n",
    "\n",
    "    \n",
    "\n",
    "def on_fatal_change(change):\n",
    "    setFatal()\n",
    "\n",
    "def on_value_change_age(change):\n",
    "    ageC, sex, region, deltale, ageatdeathC, label=getvaluesPerson('CLAIMANT')\n",
    "    a,s,r,d,aad,lbl,h=persons['CLAIMANT']\n",
    "    if ageatdeathC>ageC:\n",
    "        aad.value=ageC\n",
    "    aad.max=ageC\n",
    "    fillResults()\n",
    "\n",
    "\n",
    "#SET UP EVENT HANDLERS\n",
    "[persons['CLAIMANT'][x].observe(on_value_change,names='value') for x in [1,2,3,5,6]]\n",
    "[persons['DEPENDENT'][x].observe(on_value_change,names='value') for x in range(0,len(persons['DEPENDENT']))]\n",
    "[rows['CLAIMANT'][x].observe(on_value_change,names='value') for x in range(0,len(rows['CLAIMANT']))]\n",
    "[rows['DEPENDENT'][x].observe(on_value_change,names='value') for x in range(0,len(rows['DEPENDENT']))]\n",
    "\n",
    "persons['CLAIMANT'][4].observe(on_value_change_age,names='value') #claimant's age at death\n",
    "persons['CLAIMANT'][0].observe(on_value_change_age,names='value') #claimant's age\n",
    "\n",
    "og.observe(on_value_change,names='value')\n",
    "dr.observe(on_value_change, names='value')\n",
    "og.observe(on_value_change,names='value')\n",
    "yrattained.observe(on_value_change,names='value')\n",
    "fatal.observe(on_fatal_change,names='value')\n",
    "\n",
    "thisGame=getGame()\n",
    "\n",
    "LxNoI=Lx=Rng=None\n"
   ]
  },
  {
   "cell_type": "code",
   "execution_count": 9,
   "id": "similar-companion",
   "metadata": {},
   "outputs": [],
   "source": [
    "def drawFigure(person):\n",
    "    curve=thisGame.getClaimant(person).getCurve()\n",
    "    age, sex, region, deltale, ageatdeath, label=getvaluesPerson(person)\n",
    "    fromAge,toAge, frequency, options, label=getvaluesRow(person)\n",
    "\n",
    "    if not fromAge==toAge:\n",
    "        title=curve.getTitle(result=[0,0,0,0],fromAge=fromAge,toAge=toAge,freq=frequency,cont=1,options=options)\n",
    "    else:\n",
    "        title=curve.getTitle(result=[0,0,0,0],fromAge=fromAge,freq=frequency,cont=1,options=options)\n",
    "\n",
    "    st,en,factor,timeInterval=returnFreq(frequency)\n",
    "    #The plot\n",
    "    LxNoI,Lx,Rng=curve.getCurve(options=options,cont=1)\n",
    "\n",
    "    axes_options={'x':dict(label='Age'),'y':dict(label='Multiplier')}\n",
    "\n",
    "    pdf_fig=plt.figure(person)\n",
    "    pdf_fig.title=''\n",
    "    plt.scales(scales={'x':LinearScale(),'y':LinearScale(allow_padding=False)})\n",
    "    #scale\n",
    "    agap=0\n",
    "    if person=='DEPENDENT': agap=agegap()\n",
    "    leftX=getLeftX(fatal.value)-agap\n",
    "    pdf_fig.layout.height='400px'\n",
    "    pdf_line=plt.plot(Rng,Lx, axes_options=axes_options)\n",
    "    pdf_line.scales['x'].min=leftX\n",
    "    pdf_line.scales['x'].max=125-agap\n",
    "    pdf_line.scales['y'].min=0\n",
    "    pdf_line.scales['y'].max=2\n",
    "\n",
    "    pdf_age=plt.vline(age,colors=['green'],labels=['Age at trial'], display_legend=True)\n",
    "    pdf_aad=plt.vline(ageatdeath,colors=['black'],labels=['Age at death'],display_legend=fatal.value,visible=True)\n",
    "    mask=(Rng>=fromAge) & (Rng<=toAge)#Boolean mask\n",
    "    R=Rng[mask]\n",
    "    L=Lx[mask]\n",
    "\n",
    "    pdf_fill=plt.plot(R,L,fill='bottom',preserve_domain={'x':True,'y':True},colors=['red'],fill_opacities=[0.5])\n",
    "\n",
    "    #single point\n",
    "    y1=np.interp(fromAge,Rng,Lx)\n",
    "    pdf_start=plt.plot(colors=['red'] ,preserve_domain={'x': True, 'y': False}, x=[fromAge, fromAge], y=[0, y1])\n",
    "    y2=np.interp(toAge,Rng,Lx)\n",
    "    pdf_end=plt.plot(colors=['red'] ,preserve_domain={'x': True, 'y': False}, x=[toAge, toAge], y=[0, y2])\n",
    "        \n",
    "    display(pdf_fig)\n",
    "    return pdf_fig, pdf_line, pdf_age, pdf_aad, pdf_fill, pdf_start, pdf_end\n"
   ]
  },
  {
   "cell_type": "code",
   "execution_count": 15,
   "id": "functional-cloud",
   "metadata": {},
   "outputs": [
    {
     "data": {
      "application/vnd.jupyter.widget-view+json": {
       "model_id": "cb3594b7ff8644678f089692ca312fb8",
       "version_major": 2,
       "version_minor": 0
      },
      "text/plain": [
       "Figure(axes=[Axis(label='Age', scale=LinearScale(max=125.0, min=29.0), side='bottom'), Axis(label='Multiplier'…"
      ]
     },
     "metadata": {},
     "output_type": "display_data"
    }
   ],
   "source": [
    "pdf={}\n",
    "pdf['CLAIMANT']=drawFigure('CLAIMANT')\n",
    "pdf['DEPENDENT']=drawFigure('DEPENDENT')\n",
    "\n",
    "\n"
   ]
  },
  {
   "cell_type": "code",
   "execution_count": 11,
   "id": "dressed-landing",
   "metadata": {},
   "outputs": [],
   "source": [
    "on_value_change(None)\n",
    "setFatal()\n",
    "\n"
   ]
  },
  {
   "cell_type": "code",
   "execution_count": null,
   "id": "accepted-wales",
   "metadata": {},
   "outputs": [],
   "source": []
  },
  {
   "cell_type": "code",
   "execution_count": null,
   "id": "eight-magazine",
   "metadata": {},
   "outputs": [],
   "source": []
  },
  {
   "cell_type": "code",
   "execution_count": null,
   "id": "subject-steering",
   "metadata": {},
   "outputs": [],
   "source": []
  },
  {
   "cell_type": "code",
   "execution_count": null,
   "id": "narrow-cameroon",
   "metadata": {},
   "outputs": [],
   "source": []
  }
 ],
 "metadata": {
  "kernelspec": {
   "display_name": "Python 3",
   "language": "python",
   "name": "python3"
  },
  "language_info": {
   "codemirror_mode": {
    "name": "ipython",
    "version": 3
   },
   "file_extension": ".py",
   "mimetype": "text/x-python",
   "name": "python",
   "nbconvert_exporter": "python",
   "pygments_lexer": "ipython3",
   "version": "3.9.1"
  }
 },
 "nbformat": 4,
 "nbformat_minor": 5
}
